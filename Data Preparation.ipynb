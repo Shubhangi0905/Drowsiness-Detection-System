{
 "cells": [
  {
   "cell_type": "code",
   "execution_count": 1,
   "id": "28fbeb0f",
   "metadata": {},
   "outputs": [],
   "source": [
    "import os\n",
    "import shutil\n",
    "import glob\n",
    "from tqdm import tqdm"
   ]
  },
  {
   "cell_type": "code",
   "execution_count": 2,
   "id": "e090f7c9",
   "metadata": {},
   "outputs": [
    {
     "name": "stderr",
     "output_type": "stream",
     "text": [
      "0it [00:00, ?it/s]\n",
      "100%|█████████████████████████████████████████████████████████████████████████████| 3242/3242 [00:31<00:00, 102.64it/s]\n",
      "100%|█████████████████████████████████████████████████████████████████████████████| 1114/1114 [00:10<00:00, 103.28it/s]\n",
      "100%|████████████████████████████████████████████████████████████████████████████████| 679/679 [00:07<00:00, 88.84it/s]\n",
      "100%|██████████████████████████████████████████████████████████████████████████████| 1069/1069 [00:11<00:00, 93.52it/s]\n",
      "100%|████████████████████████████████████████████████████████████████████████████████| 736/736 [00:08<00:00, 91.74it/s]\n",
      "100%|██████████████████████████████████████████████████████████████████████████████| 1012/1012 [00:12<00:00, 82.58it/s]\n",
      "100%|████████████████████████████████████████████████████████████████████████████████| 624/624 [00:07<00:00, 82.54it/s]\n",
      "100%|████████████████████████████████████████████████████████████████████████████████| 832/832 [00:09<00:00, 90.83it/s]\n",
      "100%|████████████████████████████████████████████████████████████████████████████████| 387/387 [00:04<00:00, 93.17it/s]\n",
      "100%|████████████████████████████████████████████████████████████████████████████████| 399/399 [00:04<00:00, 91.70it/s]\n",
      "100%|█████████████████████████████████████████████████████████████████████████████| 1648/1648 [00:14<00:00, 111.74it/s]\n",
      "100%|█████████████████████████████████████████████████████████████████████████████| 8728/8728 [01:20<00:00, 108.43it/s]\n",
      "100%|█████████████████████████████████████████████████████████████████████████████| 3605/3605 [00:32<00:00, 112.31it/s]\n",
      "100%|█████████████████████████████████████████████████████████████████████████████| 8884/8884 [01:21<00:00, 109.37it/s]\n",
      "100%|█████████████████████████████████████████████████████████████████████████████| 1132/1132 [00:10<00:00, 112.38it/s]\n",
      "100%|█████████████████████████████████████████████████████████████████████████████| 1889/1889 [00:16<00:00, 112.64it/s]\n",
      "100%|█████████████████████████████████████████████████████████████████████████████| 1648/1648 [00:14<00:00, 112.02it/s]\n",
      "100%|█████████████████████████████████████████████████████████████████████████████| 4410/4410 [00:41<00:00, 105.97it/s]\n",
      "100%|█████████████████████████████████████████████████████████████████████████████| 6175/6175 [00:57<00:00, 106.82it/s]\n",
      "100%|███████████████████████████████████████████████████████████████████████████████| 704/704 [00:06<00:00, 106.93it/s]\n",
      "100%|███████████████████████████████████████████████████████████████████████████████| 987/987 [00:09<00:00, 104.77it/s]\n",
      "100%|███████████████████████████████████████████████████████████████████████████████| 382/382 [00:03<00:00, 110.82it/s]\n",
      "100%|███████████████████████████████████████████████████████████████████████████████| 522/522 [00:04<00:00, 112.57it/s]\n",
      "100%|███████████████████████████████████████████████████████████████████████████████| 752/752 [00:06<00:00, 108.85it/s]\n",
      "100%|█████████████████████████████████████████████████████████████████████████████| 1502/1502 [00:13<00:00, 110.71it/s]\n",
      "100%|█████████████████████████████████████████████████████████████████████████████| 1246/1246 [00:11<00:00, 107.24it/s]\n",
      "100%|███████████████████████████████████████████████████████████████████████████████| 665/665 [00:06<00:00, 107.76it/s]\n",
      "100%|███████████████████████████████████████████████████████████████████████████████| 736/736 [00:06<00:00, 107.89it/s]\n",
      "100%|█████████████████████████████████████████████████████████████████████████████| 1393/1393 [00:12<00:00, 108.19it/s]\n",
      "100%|█████████████████████████████████████████████████████████████████████████████| 1384/1384 [00:12<00:00, 109.93it/s]\n",
      "100%|█████████████████████████████████████████████████████████████████████████████| 1738/1738 [00:16<00:00, 105.56it/s]\n",
      "100%|█████████████████████████████████████████████████████████████████████████████| 6162/6162 [00:56<00:00, 108.23it/s]\n",
      "100%|███████████████████████████████████████████████████████████████████████████████| 681/681 [00:06<00:00, 107.05it/s]\n",
      "100%|███████████████████████████████████████████████████████████████████████████████| 739/739 [00:06<00:00, 108.54it/s]\n",
      "100%|███████████████████████████████████████████████████████████████████████████████| 642/642 [00:05<00:00, 108.34it/s]\n",
      "100%|█████████████████████████████████████████████████████████████████████████████| 6193/6193 [00:58<00:00, 105.41it/s]\n",
      "100%|███████████████████████████████████████████████████████████████████████████| 10257/10257 [01:36<00:00, 106.18it/s]\n"
     ]
    }
   ],
   "source": [
    "Raw_DIR= r'C:\\Users\\KIIT\\Desktop\\Shubhangi\\PROJECTS\\TTL PROJECT\\mrlEyes_2018_01'\n",
    "for dirpath, dirname, filenames in os.walk(Raw_DIR):\n",
    "    for i in tqdm([f for f in filenames if f.endswith('.png')]):\n",
    "        if i.split('_')[4]=='0':\n",
    "            shutil.copy(src=dirpath+'/'+i, dst=r'C:\\Users\\KIIT\\Desktop\\Shubhangi\\PROJECTS\\TTL PROJECT\\Prepared Data\\Closed Eyes')\n",
    "        \n",
    "        elif i.split('_')[4]=='1':\n",
    "            shutil.copy(src=dirpath+'/'+i, dst=r'C:\\Users\\KIIT\\Desktop\\Shubhangi\\PROJECTS\\TTL PROJECT\\Prepared Data\\Open Eyes')"
   ]
  },
  {
   "cell_type": "code",
   "execution_count": 3,
   "id": "acfd980a",
   "metadata": {},
   "outputs": [],
   "source": [
    "# Define the source and destination directories \n",
    "# for close_eyes train\n",
    "\n",
    "src_dir = r'C:\\Users\\KIIT\\Desktop\\Shubhangi\\PROJECTS\\TTL PROJECT\\Prepared Data\\Closed Eyes'\n",
    "dst_dir = r'C:\\Users\\KIIT\\Desktop\\Shubhangi\\PROJECTS\\TTL PROJECT\\Prepared Data\\train\\Close_Eyes'\n",
    "\n",
    "# Get a list of all the files in the source directory\n",
    "files = os.listdir(src_dir)\n",
    "\n",
    "# Calculate the number of files to be moved\n",
    "num_files = len(files)\n",
    "num_files_to_move = int(num_files * 0.9)\n",
    "\n",
    "# Loop through the files and move the specified number of files to the destination directory\n",
    "for i in range(num_files_to_move):\n",
    "    file = files[i]\n",
    "    src_file_path = os.path.join(src_dir, file)\n",
    "    dst_file_path = os.path.join(dst_dir, file)\n",
    "    shutil.move(src_file_path, dst_file_path)"
   ]
  },
  {
   "cell_type": "code",
   "execution_count": 5,
   "id": "efe864f2",
   "metadata": {},
   "outputs": [],
   "source": [
    "# Define the source and destination directories \n",
    "# for open_eyes train\n",
    "\n",
    "src_dir = r'C:\\Users\\KIIT\\Desktop\\Shubhangi\\PROJECTS\\TTL PROJECT\\Prepared Data\\Open Eyes'\n",
    "dst_dir = r'C:\\Users\\KIIT\\Desktop\\Shubhangi\\PROJECTS\\TTL PROJECT\\Prepared Data\\train\\Open_Eyes'\n",
    "\n",
    "# Get a list of all the files in the source directory\n",
    "files = os.listdir(src_dir)\n",
    "\n",
    "# Calculate the number of files to be moved\n",
    "num_files = len(files)\n",
    "num_files_to_move = int(num_files * 0.9)\n",
    "\n",
    "# Loop through the files and move the specified number of files to the destination directory\n",
    "for i in range(num_files_to_move):\n",
    "    file = files[i]\n",
    "    src_file_path = os.path.join(src_dir, file)\n",
    "    dst_file_path = os.path.join(dst_dir, file)\n",
    "    shutil.move(src_file_path, dst_file_path)"
   ]
  },
  {
   "cell_type": "code",
   "execution_count": 6,
   "id": "416a0cee",
   "metadata": {},
   "outputs": [],
   "source": [
    "# Define the source and destination directories \n",
    "# for close_eyes test\n",
    "\n",
    "src_dir = r'C:\\Users\\KIIT\\Desktop\\Shubhangi\\PROJECTS\\TTL PROJECT\\Prepared Data\\Closed Eyes'\n",
    "dst_dir = r'C:\\Users\\KIIT\\Desktop\\Shubhangi\\PROJECTS\\TTL PROJECT\\Prepared Data\\test\\Close_Eyes'\n",
    "\n",
    "# Get a list of all the files in the source directory\n",
    "files = os.listdir(src_dir)\n",
    "\n",
    "# Calculate the number of files to be moved\n",
    "num_files = len(files)\n",
    "num_files_to_move = int(num_files * 1)\n",
    "\n",
    "# Loop through the files and move the specified number of files to the destination directory\n",
    "for i in range(num_files_to_move):\n",
    "    file = files[i]\n",
    "    src_file_path = os.path.join(src_dir, file)\n",
    "    dst_file_path = os.path.join(dst_dir, file)\n",
    "    shutil.move(src_file_path, dst_file_path)"
   ]
  },
  {
   "cell_type": "code",
   "execution_count": 7,
   "id": "f0655c04",
   "metadata": {},
   "outputs": [],
   "source": [
    "# Define the source and destination directories \n",
    "# for open_eyes test\n",
    "\n",
    "src_dir = r'C:\\Users\\KIIT\\Desktop\\Shubhangi\\PROJECTS\\TTL PROJECT\\Prepared Data\\Open Eyes'\n",
    "dst_dir = r'C:\\Users\\KIIT\\Desktop\\Shubhangi\\PROJECTS\\TTL PROJECT\\Prepared Data\\test\\Open_Eyes'\n",
    "\n",
    "# Get a list of all the files in the source directory\n",
    "files = os.listdir(src_dir)\n",
    "\n",
    "# Calculate the number of files to be moved\n",
    "num_files = len(files)\n",
    "num_files_to_move = int(num_files * 1)\n",
    "\n",
    "# Loop through the files and move the specified number of files to the destination directory\n",
    "for i in range(num_files_to_move):\n",
    "    file = files[i]\n",
    "    src_file_path = os.path.join(src_dir, file)\n",
    "    dst_file_path = os.path.join(dst_dir, file)\n",
    "    shutil.move(src_file_path, dst_file_path)"
   ]
  },
  {
   "cell_type": "code",
   "execution_count": null,
   "id": "f59ecc60",
   "metadata": {},
   "outputs": [],
   "source": []
  }
 ],
 "metadata": {
  "kernelspec": {
   "display_name": "Python 3 (ipykernel)",
   "language": "python",
   "name": "python3"
  },
  "language_info": {
   "codemirror_mode": {
    "name": "ipython",
    "version": 3
   },
   "file_extension": ".py",
   "mimetype": "text/x-python",
   "name": "python",
   "nbconvert_exporter": "python",
   "pygments_lexer": "ipython3",
   "version": "3.10.4"
  }
 },
 "nbformat": 4,
 "nbformat_minor": 5
}
